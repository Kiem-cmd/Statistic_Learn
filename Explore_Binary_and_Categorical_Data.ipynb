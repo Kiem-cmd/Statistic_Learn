{
  "nbformat": 4,
  "nbformat_minor": 0,
  "metadata": {
    "colab": {
      "provenance": [],
      "authorship_tag": "ABX9TyOiX+zw5VWeIloPFgVDOm15",
      "include_colab_link": true
    },
    "kernelspec": {
      "name": "python3",
      "display_name": "Python 3"
    },
    "language_info": {
      "name": "python"
    }
  },
  "cells": [
    {
      "cell_type": "markdown",
      "metadata": {
        "id": "view-in-github",
        "colab_type": "text"
      },
      "source": [
        "<a href=\"https://colab.research.google.com/github/Kiem-cmd/Statistic_Learn/blob/main/Explore_Binary_and_Categorical_Data.ipynb\" target=\"_parent\"><img src=\"https://colab.research.google.com/assets/colab-badge.svg\" alt=\"Open In Colab\"/></a>"
      ]
    },
    {
      "cell_type": "markdown",
      "source": [
        "\n",
        "Mode : most commnly occuring category or value in dataset\n"
      ],
      "metadata": {
        "id": "T30aBCalHiWo"
      }
    },
    {
      "cell_type": "markdown",
      "source": [
        "Generally not used for numeric data"
      ],
      "metadata": {
        "id": "XranqwtFHwkK"
      }
    },
    {
      "cell_type": "code",
      "execution_count": 1,
      "metadata": {
        "id": "xLjOfWztGq1-"
      },
      "outputs": [],
      "source": [
        "from scipy import stats as st \n",
        "import numpy as np\n"
      ]
    },
    {
      "cell_type": "code",
      "source": [
        "data = np.array([1,1,2,2,2,3,4,5])\n",
        "print(st.mode(data))"
      ],
      "metadata": {
        "colab": {
          "base_uri": "https://localhost:8080/"
        },
        "id": "UeSNRmTXIkvh",
        "outputId": "87fe022e-7620-4cdc-c65d-ed311cd0043f"
      },
      "execution_count": 2,
      "outputs": [
        {
          "output_type": "stream",
          "name": "stdout",
          "text": [
            "ModeResult(mode=array([2]), count=array([3]))\n"
          ]
        }
      ]
    },
    {
      "cell_type": "markdown",
      "source": [
        "\n",
        "Expected Value\n",
        "\n"
      ],
      "metadata": {
        "id": "SLT_Hsj6HbSs"
      }
    },
    {
      "cell_type": "markdown",
      "source": [
        "![Screenshot 2022-12-15 164417.png](data:image/png;base64,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)"
      ],
      "metadata": {
        "id": "kgTBpYoJK3M2"
      }
    },
    {
      "cell_type": "markdown",
      "source": [
        "gần giống với weight mean"
      ],
      "metadata": {
        "id": "8cLcoD6OMD-T"
      }
    },
    {
      "cell_type": "code",
      "source": [
        "def expected_value(values,weights):\n",
        "  value = np.asarray(values)\n",
        "  weight = np.asarray(weights)\n",
        "  return (value * weight).sum() / weight.sum()\n"
      ],
      "metadata": {
        "id": "FE64NDgrIzcK"
      },
      "execution_count": 12,
      "outputs": []
    },
    {
      "cell_type": "code",
      "source": [
        "values = [0,1,2,3,4]\n",
        "weights = [.18,.34,.35,.11,.02]\n"
      ],
      "metadata": {
        "id": "rYueb9XJMbxk"
      },
      "execution_count": 13,
      "outputs": []
    },
    {
      "cell_type": "code",
      "source": [
        "expected_value(values,weights)"
      ],
      "metadata": {
        "colab": {
          "base_uri": "https://localhost:8080/"
        },
        "id": "ZfL9_Ar7MjWy",
        "outputId": "36af515a-0dea-4606-8be5-bb9a9c74acb4"
      },
      "execution_count": 14,
      "outputs": [
        {
          "output_type": "execute_result",
          "data": {
            "text/plain": [
              "1.4500000000000002"
            ]
          },
          "metadata": {},
          "execution_count": 14
        }
      ]
    },
    {
      "cell_type": "markdown",
      "source": [
        "Bar chart "
      ],
      "metadata": {
        "id": "d0kO-lLqM8_j"
      }
    },
    {
      "cell_type": "code",
      "source": [
        "\n",
        "import matplotlib.pyplot as plt\n",
        " \n",
        "data = {'C':20, 'C++':15, 'Java':30,\n",
        "        'Python':35}\n",
        "courses = list(data.keys())\n",
        "values = list(data.values())\n",
        "  \n",
        "fig = plt.figure(figsize = (10, 5))\n",
        "\n",
        "plt.bar(courses, values, color ='maroon',\n",
        "        width = 0.4)\n",
        " \n",
        "plt.show()"
      ],
      "metadata": {
        "colab": {
          "base_uri": "https://localhost:8080/",
          "height": 320
        },
        "id": "HPsIoil_Mng2",
        "outputId": "43400111-b203-4319-e8db-b1c2cd7ccb8d"
      },
      "execution_count": 15,
      "outputs": [
        {
          "output_type": "display_data",
          "data": {
            "text/plain": [
              "<Figure size 720x360 with 1 Axes>"
            ],
            "image/png": "[encoded data removed]"
          },
          "metadata": {
            "needs_background": "light"
          }
        }
      ]
    },
    {
      "cell_type": "markdown",
      "source": [
        "Pie char"
      ],
      "metadata": {
        "id": "R0xKIwBsNgdN"
      }
    },
    {
      "cell_type": "code",
      "source": [
        "fig = plt.figure(figsize =(10, 7))\n",
        "plt.pie(values, labels = courses)\n",
        "\n",
        "plt.show()"
      ],
      "metadata": {
        "colab": {
          "base_uri": "https://localhost:8080/",
          "height": 411
        },
        "id": "QOosiF0gNUB3",
        "outputId": "84d6beb7-f710-4a40-b6b8-234ad4a8b8c2"
      },
      "execution_count": 16,
      "outputs": [
        {
          "output_type": "display_data",
          "data": {
            "text/plain": [
              "<Figure size 720x504 with 1 Axes>"
            ],
            "image/png": "[encoded data removed]"
          },
          "metadata": {}
        }
      ]
    },
    {
      "cell_type": "code",
      "source": [],
      "metadata": {
        "id": "y0SGt4OeOFFg"
      },
      "execution_count": null,
      "outputs": []
    }
  ]
}