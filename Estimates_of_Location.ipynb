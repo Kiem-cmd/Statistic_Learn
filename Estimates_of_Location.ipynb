{
  "nbformat": 4,
  "nbformat_minor": 0,
  "metadata": {
    "colab": {
      "provenance": [],
      "authorship_tag": "ABX9TyM5lUITLPlSOUOCkG4Cy6nl",
      "include_colab_link": true
    },
    "kernelspec": {
      "name": "python3",
      "display_name": "Python 3"
    },
    "language_info": {
      "name": "python"
    }
  },
  "cells": [
    {
      "cell_type": "markdown",
      "metadata": {
        "id": "view-in-github",
        "colab_type": "text"
      },
      "source": [
        "<a href=\"https://colab.research.google.com/github/Kiem-cmd/Statistic_Learn/blob/main/Estimates_of_Location.ipynb\" target=\"_parent\"><img src=\"https://colab.research.google.com/assets/colab-badge.svg\" alt=\"Open In Colab\"/></a>"
      ]
    },
    {
      "cell_type": "code",
      "execution_count": null,
      "metadata": {
        "id": "92EWh-htLxcz"
      },
      "outputs": [],
      "source": [
        "import numpy as np\n",
        "import pandas as pd"
      ]
    },
    {
      "cell_type": "code",
      "source": [
        "data = pd.DataFrame({'State':['Alabana','Alaska','Arizona','Arkansas','California','Colorado','Connecticut','Delaware','England','VietNam'],\n",
        "                     'Population':[1,2,3,4,5,6,7,8,9,10],\n",
        "                     'Murder rate':[5.7,5.6,4.7,5.6,4.4,2.8,2.4,5.8,5.9,6]})"
      ],
      "metadata": {
        "id": "_3DelyDUL6NA"
      },
      "execution_count": null,
      "outputs": []
    },
    {
      "cell_type": "code",
      "source": [
        "data"
      ],
      "metadata": {
        "colab": {
          "base_uri": "https://localhost:8080/",
          "height": 363
        },
        "id": "r7M2XLRnNBKo",
        "outputId": "42bceb8c-a840-46f4-edd9-4bb43426532c"
      },
      "execution_count": null,
      "outputs": [
        {
          "output_type": "execute_result",
          "data": {
            "text/plain": [
              "         State  Population  Murder rate\n",
              "0      Alabana           1          5.7\n",
              "1       Alaska           2          5.6\n",
              "2      Arizona           3          4.7\n",
              "3     Arkansas           4          5.6\n",
              "4   California           5          4.4\n",
              "5     Colorado           6          2.8\n",
              "6  Connecticut           7          2.4\n",
              "7     Delaware           8          5.8\n",
              "8      England           9          5.9\n",
              "9      VietNam          10          6.0"
            ],
            "text/html": [
              "\n",
              "  <div id=\"df-cb27a535-7df4-4f13-98b0-80fc85afe34e\">\n",
              "    <div class=\"colab-df-container\">\n",
              "      <div>\n",
              "<style scoped>\n",
              "    .dataframe tbody tr th:only-of-type {\n",
              "        vertical-align: middle;\n",
              "    }\n",
              "\n",
              "    .dataframe tbody tr th {\n",
              "        vertical-align: top;\n",
              "    }\n",
              "\n",
              "    .dataframe thead th {\n",
              "        text-align: right;\n",
              "    }\n",
              "</style>\n",
              "<table border=\"1\" class=\"dataframe\">\n",
              "  <thead>\n",
              "    <tr style=\"text-align: right;\">\n",
              "      <th></th>\n",
              "      <th>State</th>\n",
              "      <th>Population</th>\n",
              "      <th>Murder rate</th>\n",
              "    </tr>\n",
              "  </thead>\n",
              "  <tbody>\n",
              "    <tr>\n",
              "      <th>0</th>\n",
              "      <td>Alabana</td>\n",
              "      <td>1</td>\n",
              "      <td>5.7</td>\n",
              "    </tr>\n",
              "    <tr>\n",
              "      <th>1</th>\n",
              "      <td>Alaska</td>\n",
              "      <td>2</td>\n",
              "      <td>5.6</td>\n",
              "    </tr>\n",
              "    <tr>\n",
              "      <th>2</th>\n",
              "      <td>Arizona</td>\n",
              "      <td>3</td>\n",
              "      <td>4.7</td>\n",
              "    </tr>\n",
              "    <tr>\n",
              "      <th>3</th>\n",
              "      <td>Arkansas</td>\n",
              "      <td>4</td>\n",
              "      <td>5.6</td>\n",
              "    </tr>\n",
              "    <tr>\n",
              "      <th>4</th>\n",
              "      <td>California</td>\n",
              "      <td>5</td>\n",
              "      <td>4.4</td>\n",
              "    </tr>\n",
              "    <tr>\n",
              "      <th>5</th>\n",
              "      <td>Colorado</td>\n",
              "      <td>6</td>\n",
              "      <td>2.8</td>\n",
              "    </tr>\n",
              "    <tr>\n",
              "      <th>6</th>\n",
              "      <td>Connecticut</td>\n",
              "      <td>7</td>\n",
              "      <td>2.4</td>\n",
              "    </tr>\n",
              "    <tr>\n",
              "      <th>7</th>\n",
              "      <td>Delaware</td>\n",
              "      <td>8</td>\n",
              "      <td>5.8</td>\n",
              "    </tr>\n",
              "    <tr>\n",
              "      <th>8</th>\n",
              "      <td>England</td>\n",
              "      <td>9</td>\n",
              "      <td>5.9</td>\n",
              "    </tr>\n",
              "    <tr>\n",
              "      <th>9</th>\n",
              "      <td>VietNam</td>\n",
              "      <td>10</td>\n",
              "      <td>6.0</td>\n",
              "    </tr>\n",
              "  </tbody>\n",
              "</table>\n",
              "</div>\n",
              "      <button class=\"colab-df-convert\" onclick=\"convertToInteractive('df-cb27a535-7df4-4f13-98b0-80fc85afe34e')\"\n",
              "              title=\"Convert this dataframe to an interactive table.\"\n",
              "              style=\"display:none;\">\n",
              "        \n",
              "  <svg xmlns=\"http://www.w3.org/2000/svg\" height=\"24px\"viewBox=\"0 0 24 24\"\n",
              "       width=\"24px\">\n",
              "    <path d=\"M0 0h24v24H0V0z\" fill=\"none\"/>\n",
              "    <path d=\"M18.56 5.44l.94 2.06.94-2.06 2.06-.94-2.06-.94-.94-2.06-.94 2.06-2.06.94zm-11 1L8.5 8.5l.94-2.06 2.06-.94-2.06-.94L8.5 2.5l-.94 2.06-2.06.94zm10 10l.94 2.06.94-2.06 2.06-.94-2.06-.94-.94-2.06-.94 2.06-2.06.94z\"/><path d=\"M17.41 7.96l-1.37-1.37c-.4-.4-.92-.59-1.43-.59-.52 0-1.04.2-1.43.59L10.3 9.45l-7.72 7.72c-.78.78-.78 2.05 0 2.83L4 21.41c.39.39.9.59 1.41.59.51 0 1.02-.2 1.41-.59l7.78-7.78 2.81-2.81c.8-.78.8-2.07 0-2.86zM5.41 20L4 18.59l7.72-7.72 1.47 1.35L5.41 20z\"/>\n",
              "  </svg>\n",
              "      </button>\n",
              "      \n",
              "  <style>\n",
              "    .colab-df-container {\n",
              "      display:flex;\n",
              "      flex-wrap:wrap;\n",
              "      gap: 12px;\n",
              "    }\n",
              "\n",
              "    .colab-df-convert {\n",
              "      background-color: #E8F0FE;\n",
              "      border: none;\n",
              "      border-radius: 50%;\n",
              "      cursor: pointer;\n",
              "      display: none;\n",
              "      fill: #1967D2;\n",
              "      height: 32px;\n",
              "      padding: 0 0 0 0;\n",
              "      width: 32px;\n",
              "    }\n",
              "\n",
              "    .colab-df-convert:hover {\n",
              "      background-color: #E2EBFA;\n",
              "      box-shadow: 0px 1px 2px rgba(60, 64, 67, 0.3), 0px 1px 3px 1px rgba(60, 64, 67, 0.15);\n",
              "      fill: #174EA6;\n",
              "    }\n",
              "\n",
              "    [theme=dark] .colab-df-convert {\n",
              "      background-color: #3B4455;\n",
              "      fill: #D2E3FC;\n",
              "    }\n",
              "\n",
              "    [theme=dark] .colab-df-convert:hover {\n",
              "      background-color: #434B5C;\n",
              "      box-shadow: 0px 1px 3px 1px rgba(0, 0, 0, 0.15);\n",
              "      filter: drop-shadow(0px 1px 2px rgba(0, 0, 0, 0.3));\n",
              "      fill: #FFFFFF;\n",
              "    }\n",
              "  </style>\n",
              "\n",
              "      <script>\n",
              "        const buttonEl =\n",
              "          document.querySelector('#df-cb27a535-7df4-4f13-98b0-80fc85afe34e button.colab-df-convert');\n",
              "        buttonEl.style.display =\n",
              "          google.colab.kernel.accessAllowed ? 'block' : 'none';\n",
              "\n",
              "        async function convertToInteractive(key) {\n",
              "          const element = document.querySelector('#df-cb27a535-7df4-4f13-98b0-80fc85afe34e');\n",
              "          const dataTable =\n",
              "            await google.colab.kernel.invokeFunction('convertToInteractive',\n",
              "                                                     [key], {});\n",
              "          if (!dataTable) return;\n",
              "\n",
              "          const docLinkHtml = 'Like what you see? Visit the ' +\n",
              "            '<a target=\"_blank\" href=https://colab.research.google.com/notebooks/data_table.ipynb>data table notebook</a>'\n",
              "            + ' to learn more about interactive tables.';\n",
              "          element.innerHTML = '';\n",
              "          dataTable['output_type'] = 'display_data';\n",
              "          await google.colab.output.renderOutput(dataTable, element);\n",
              "          const docLink = document.createElement('div');\n",
              "          docLink.innerHTML = docLinkHtml;\n",
              "          element.appendChild(docLink);\n",
              "        }\n",
              "      </script>\n",
              "    </div>\n",
              "  </div>\n",
              "  "
            ]
          },
          "metadata": {},
          "execution_count": 3
        }
      ]
    },
    {
      "cell_type": "markdown",
      "source": [
        "Mean : The sum of all values divided bu the number of values "
      ],
      "metadata": {
        "id": "oqbL8nYvO3-6"
      }
    },
    {
      "cell_type": "markdown",
      "source": [
        "![Screenshot 2022-12-07 224642.png](data:image/png;base64,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)"
      ],
      "metadata": {
        "id": "QpP9moUVRFl-"
      }
    },
    {
      "cell_type": "code",
      "source": [
        "np.mean(data['Population'])"
      ],
      "metadata": {
        "colab": {
          "base_uri": "https://localhost:8080/"
        },
        "id": "BYZhQ56pNCH5",
        "outputId": "fdd26039-f1de-4104-b9c4-6c9bfd44cfd5"
      },
      "execution_count": null,
      "outputs": [
        {
          "output_type": "execute_result",
          "data": {
            "text/plain": [
              "5.5"
            ]
          },
          "metadata": {},
          "execution_count": 4
        }
      ]
    },
    {
      "cell_type": "code",
      "source": [
        "np.average(data['Population'])"
      ],
      "metadata": {
        "colab": {
          "base_uri": "https://localhost:8080/"
        },
        "id": "VOGE5lXZNHx0",
        "outputId": "8ff6ee65-af2b-47ed-e495-e0707df47984"
      },
      "execution_count": null,
      "outputs": [
        {
          "output_type": "execute_result",
          "data": {
            "text/plain": [
              "5.5"
            ]
          },
          "metadata": {},
          "execution_count": 5
        }
      ]
    },
    {
      "cell_type": "markdown",
      "source": [
        "Trimmed mean : Eliminates the influence of extreme values"
      ],
      "metadata": {
        "id": "qNWn3fDZPuyI"
      }
    },
    {
      "cell_type": "markdown",
      "source": [
        "![Screenshot 2022-12-07 224004.png](data:image/png;base64,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)"
      ],
      "metadata": {
        "id": "_n0SwcZmPpou"
      }
    },
    {
      "cell_type": "code",
      "source": [
        "def trimm_mean(arr, percent):\n",
        "  n = len(arr)\n",
        "  k = int (round(n*(float(percent)/100)/2))\n",
        "  return np.mean(arr[k+1:n-k-1])"
      ],
      "metadata": {
        "id": "XUeFRcbZPk3R"
      },
      "execution_count": null,
      "outputs": []
    },
    {
      "cell_type": "code",
      "source": [
        "trimm_mean(data['Population'],20)"
      ],
      "metadata": {
        "colab": {
          "base_uri": "https://localhost:8080/"
        },
        "id": "5R62WEciQFTt",
        "outputId": "20d1b999-6b1a-4494-f03c-d8d3e4012565"
      },
      "execution_count": null,
      "outputs": [
        {
          "output_type": "execute_result",
          "data": {
            "text/plain": [
              "5.5"
            ]
          },
          "metadata": {},
          "execution_count": 21
        }
      ]
    },
    {
      "cell_type": "code",
      "source": [
        "from scipy import stats\n",
        "stats.trim_mean(data['Population'],0.2)"
      ],
      "metadata": {
        "colab": {
          "base_uri": "https://localhost:8080/"
        },
        "id": "9iQKqdGsRjdZ",
        "outputId": "f3901aba-d83d-4e63-b6b1-2b86b2c5bb87"
      },
      "execution_count": null,
      "outputs": [
        {
          "output_type": "execute_result",
          "data": {
            "text/plain": [
              "5.5"
            ]
          },
          "metadata": {},
          "execution_count": 22
        }
      ]
    },
    {
      "cell_type": "markdown",
      "source": [
        "Weighted mean : Calculate by multi each data value x_i by a w_i and dividing thier sum by the sum of weight"
      ],
      "metadata": {
        "id": "FsJJd_qWRMSY"
      }
    },
    {
      "cell_type": "markdown",
      "source": [
        "- Ví dụ 1 : thuộc tính 1 ít chính xác hơn thuộc tính 2 --> w1<w2\n",
        "- Ví dụ 2: thuộc tính nào đại diện, hoặc quan trọng hơn --> weight >>"
      ],
      "metadata": {
        "id": "RqMYds8Re1Sa"
      }
    },
    {
      "cell_type": "markdown",
      "source": [
        "![Screenshot 2022-12-07 224817.png](data:image/png;base64,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)"
      ],
      "metadata": {
        "id": "lljrt6T6Rder"
      }
    },
    {
      "cell_type": "code",
      "source": [
        "w_i = np.arange(10)\n",
        "w_i"
      ],
      "metadata": {
        "colab": {
          "base_uri": "https://localhost:8080/"
        },
        "id": "rXqNOgesQ9C_",
        "outputId": "1e6d3198-c35f-4b8c-f962-2885380f7473"
      },
      "execution_count": null,
      "outputs": [
        {
          "output_type": "execute_result",
          "data": {
            "text/plain": [
              "array([0, 1, 2, 3, 4, 5, 6, 7, 8, 9])"
            ]
          },
          "metadata": {},
          "execution_count": 23
        }
      ]
    },
    {
      "cell_type": "code",
      "source": [
        "weight_mean = np.average(data['Population'],weights =w_i)\n",
        "weight_mean"
      ],
      "metadata": {
        "colab": {
          "base_uri": "https://localhost:8080/"
        },
        "id": "G6CR3uureXcX",
        "outputId": "8c16e8b1-b26a-4bba-97ab-dbefdbe62ffe"
      },
      "execution_count": null,
      "outputs": [
        {
          "output_type": "execute_result",
          "data": {
            "text/plain": [
              "7.333333333333333"
            ]
          },
          "metadata": {},
          "execution_count": 24
        }
      ]
    },
    {
      "cell_type": "markdown",
      "source": [
        "Median and Robust Estimates: the middle number on a sorted list of the data"
      ],
      "metadata": {
        "id": "Gr6JDpVAfPGg"
      }
    },
    {
      "cell_type": "markdown",
      "source": [
        "Tại sao nên dùng Median hơn trong 1 số trường hợp ?\n",
        "Ví dụ so sánh độ giàu của vùng A và B (giả sử A có Bill Gates) --> nếu lấy Means thì chắc chắn A>>B --> không phản ảnh rõ tình hình độ giàu của khu A so với B"
      ],
      "metadata": {
        "id": "KdlOA02bf94C"
      }
    },
    {
      "cell_type": "code",
      "source": [
        "np.sort(data['Murder rate'])[len(data['Murder rate'])//2]"
      ],
      "metadata": {
        "colab": {
          "base_uri": "https://localhost:8080/"
        },
        "id": "oPXZKZUFhhJU",
        "outputId": "e6cd4e6e-9f57-4d64-ccb0-a555937e397b"
      },
      "execution_count": null,
      "outputs": [
        {
          "output_type": "execute_result",
          "data": {
            "text/plain": [
              "5.6"
            ]
          },
          "metadata": {},
          "execution_count": 25
        }
      ]
    },
    {
      "cell_type": "code",
      "source": [
        "np.median(data['Murder rate'])"
      ],
      "metadata": {
        "colab": {
          "base_uri": "https://localhost:8080/"
        },
        "id": "goKGro3Yeitp",
        "outputId": "99ed3098-0a30-4784-8eb7-30dacb62fc1a"
      },
      "execution_count": null,
      "outputs": [
        {
          "output_type": "execute_result",
          "data": {
            "text/plain": [
              "5.6"
            ]
          },
          "metadata": {},
          "execution_count": 26
        }
      ]
    },
    {
      "cell_type": "markdown",
      "source": [
        "Weight Median: value such that the sum of the weights is equal for the lower and upper halves sorted list"
      ],
      "metadata": {
        "id": "w7N8u3xAiZlk"
      }
    },
    {
      "cell_type": "markdown",
      "source": [
        "giá trị trọng số mà tại đó tổng hai bên(được chia bằng số đo) của dãy trọng số là cân bằng nhất \n",
        "VD: {0,15,0.1,0.2,0.3,0.25}   -> 0.3 vì hai bên là 0.25 và 0.55 cân bằng nhất trong tất cả sự lựa chọn"
      ],
      "metadata": {
        "id": "wy5OiXYVWZc8"
      }
    },
    {
      "cell_type": "code",
      "source": [
        "def weight_median(arr,W):\n",
        "  pair =[]\n",
        "  for i in range(len(arr)):\n",
        "    pair.append([arr[i],W[i]])\n",
        "  pair.sort(key = lambda p:p[0])\n",
        "\n",
        "  if len(arr)%2 != 0:\n",
        "      sums = 0\n",
        "      for i,w in pair:\n",
        "        sums += w\n",
        "        if sums > 0.5:\n",
        "          print(\"The weight mean\",end= ' ')\n",
        "          print(\"is element {}\".format(i))\n",
        "  else:\n",
        "      sums = 0\n",
        "      for i,w in pair:\n",
        "         sums += w\n",
        "         if(sums>=0.5):\n",
        "           print(\"Lower Weight Mean\",end=' ')\n",
        "           print(\"is element {}\".format(i))\n",
        "           break\n",
        "      sums = 0\n",
        "      for i in range(len(pair) -1,-1,-1):\n",
        "        element = pair[i][0]\n",
        "        weight = pair[i][1]\n",
        "\n",
        "        sums +=w\n",
        "\n",
        "        if sums>=0.5:\n",
        "          print(\"Upper Weight Mean\",end=' ')\n",
        "          print(\"is element {}\".format(element))\n",
        "          break\n",
        "\n"
      ],
      "metadata": {
        "id": "QaMqANPiheW6"
      },
      "execution_count": null,
      "outputs": []
    },
    {
      "cell_type": "code",
      "source": [
        "weight_median(data['Murder rate'],[0.1,0.1,0.1,0.2,0.1,0,0.1,0.1,0.1,0.1])"
      ],
      "metadata": {
        "colab": {
          "base_uri": "https://localhost:8080/"
        },
        "id": "b4TDrVM2T6kQ",
        "outputId": "9accd63b-fea3-4b30-8cc6-e098970c9ed9"
      },
      "execution_count": null,
      "outputs": [
        {
          "output_type": "stream",
          "name": "stdout",
          "text": [
            "Lower Weight Mean is element 5.6\n",
            "Upper Weight Mean is element 5.8\n"
          ]
        }
      ]
    },
    {
      "cell_type": "markdown",
      "source": [
        "--> Median và Weight Median --> đều mạnh mẽ với ngoại lệ"
      ],
      "metadata": {
        "id": "HW0nW2fNjIeg"
      }
    },
    {
      "cell_type": "code",
      "source": [],
      "metadata": {
        "id": "spM3dVimjN4C"
      },
      "execution_count": null,
      "outputs": []
    }
  ]
}